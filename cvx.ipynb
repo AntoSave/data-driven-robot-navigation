{
 "cells": [
  {
   "cell_type": "code",
   "execution_count": 1,
   "metadata": {},
   "outputs": [],
   "source": [
    "import cvxpy as cp\n",
    "import numpy as np"
   ]
  },
  {
   "cell_type": "code",
   "execution_count": 2,
   "metadata": {},
   "outputs": [],
   "source": [
    "m = 30\n",
    "n = 20\n",
    "np.random.seed(1)\n",
    "A = np.random.randn(30,20)\n",
    "b=np.random.randn(m)"
   ]
  },
  {
   "cell_type": "code",
   "execution_count": 7,
   "metadata": {},
   "outputs": [
    {
     "name": "stdout",
     "output_type": "stream",
     "text": [
      "[-1.79109253e-19  2.85112420e-02  2.79973443e-19  3.37658751e-20\n",
      " -2.72802659e-19  1.49285011e-01 -9.97212062e-20  8.35373892e-20\n",
      "  2.46718649e-01  5.78224144e-01 -4.03739462e-19  1.01242860e-03\n",
      " -9.28486200e-20  2.26767464e-01 -1.58813677e-19 -8.97232308e-20\n",
      " -1.22145726e-19 -1.51509432e-19  1.12060673e-19 -3.48318630e-19] (20,)\n",
      "[-0.13813052  0.04286782 -0.31326036 -0.31875169 -0.38173044  0.103067\n",
      "  0.24419122 -0.00342188  0.23622057  0.7852978  -0.10776466  0.04355379\n",
      "  0.02445841  0.34065977 -0.18837811 -0.06417183 -0.06285536 -0.17786598\n",
      " -0.077241   -0.05903772] (20,)\n"
     ]
    }
   ],
   "source": [
    "x = cp.Variable(n)\n",
    "objective = cp.Minimize(cp.sum_squares(A@x-b)) \n",
    "\"\"\"Stiamo risolvendo un problema ai minimi quadrati che abbiamo visto nelle lezioni precedenti.\n",
    "A@x-b è un vettore mx1 che contiene i termini della sommatoria, poi sum_squares mi genera l'errore quadratico medio\n",
    "Dunque si tratta di un problema del tipo di quelli che abbiamo visto l'altra lezione con m sample e n features.\"\"\"\n",
    "constraints = [0<=x, x<=1]\n",
    "prob = cp.Problem(objective, constraints)\n",
    "prob2 = cp.Problem(objective)\n",
    "result = prob.solve()\n",
    "print(x.value, x.shape)\n",
    "\n",
    "result2 = prob2.solve()\n",
    "print(x.value, x.shape)"
   ]
  },
  {
   "cell_type": "code",
   "execution_count": 8,
   "metadata": {},
   "outputs": [],
   "source": [
    "#Problema quadratico\n",
    "m = 15\n",
    "n=10\n",
    "p=5\n",
    "np.random.seed(1)\n",
    "P=np.random.randn(n,n)\n",
    "P = P.T @ P #Serve a garantire che P sia simmetrica, proprietà dell'algebra: P^T P = simmetrica\n",
    "q = np.random.randn(n)\n",
    "G = np.random.randn(m,n)\n",
    "h = G @ np.random.randn(n)\n",
    "A = np.random.randn(p,n)\n",
    "b = np.random.randn(p)"
   ]
  },
  {
   "cell_type": "code",
   "execution_count": 11,
   "metadata": {},
   "outputs": [
    {
     "name": "stdout",
     "output_type": "stream",
     "text": [
      "[-1.68244521  0.29769913 -2.38772183 -2.79986015  1.18270433 -0.20911897\n",
      " -4.50993526  3.76683701 -0.45770675 -3.78589638]\n"
     ]
    }
   ],
   "source": [
    "x = cp.Variable(n)\n",
    "objective = cp.Minimize(0.5*cp.quad_form(x,P)+q.T@x)\n",
    "constraints = [G@x <= h, A @ x==b]\n",
    "problem = cp.Problem(objective, constraints)\n",
    "problem.solve()\n",
    "print(x.value)"
   ]
  }
 ],
 "metadata": {
  "kernelspec": {
   "display_name": "base",
   "language": "python",
   "name": "python3"
  },
  "language_info": {
   "codemirror_mode": {
    "name": "ipython",
    "version": 3
   },
   "file_extension": ".py",
   "mimetype": "text/x-python",
   "name": "python",
   "nbconvert_exporter": "python",
   "pygments_lexer": "ipython3",
   "version": "3.11.4"
  },
  "orig_nbformat": 4
 },
 "nbformat": 4,
 "nbformat_minor": 2
}
