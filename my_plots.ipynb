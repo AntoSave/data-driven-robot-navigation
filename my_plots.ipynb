{
 "cells": [
  {
   "cell_type": "code",
   "execution_count": 26,
   "metadata": {},
   "outputs": [],
   "source": [
    "import matplotlib.pyplot as plt\n",
    "import matplotlib\n",
    "import numpy as np"
   ]
  },
  {
   "cell_type": "code",
   "execution_count": 29,
   "metadata": {},
   "outputs": [],
   "source": [
    "matplotlib.use('WebAgg')"
   ]
  },
  {
   "cell_type": "code",
   "execution_count": 31,
   "metadata": {},
   "outputs": [
    {
     "name": "stdout",
     "output_type": "stream",
     "text": [
      "[[-0.99995129 -1.00136723 -1.00279706 ... -1.00279706 -1.00136723\n",
      "  -0.99995129]\n",
      " [-1.00136723 -1.00282711 -1.00427263 ... -1.00427263 -1.00282711\n",
      "  -1.00136723]\n",
      " [-1.00279706 -1.00427263 -1.00570376 ... -1.00570376 -1.00427263\n",
      "  -1.00279706]\n",
      " ...\n",
      " [-1.00279706 -1.00427263 -1.00570376 ... -1.00570376 -1.00427263\n",
      "  -1.00279706]\n",
      " [-1.00136723 -1.00282711 -1.00427263 ... -1.00427263 -1.00282711\n",
      "  -1.00136723]\n",
      " [-0.99995129 -1.00136723 -1.00279706 ... -1.00279706 -1.00136723\n",
      "  -0.99995129]]\n"
     ]
    },
    {
     "name": "stderr",
     "output_type": "stream",
     "text": [
      "gio: http://127.0.0.1:8988: Operation not supported\n"
     ]
    }
   ],
   "source": [
    "x = np.linspace(-10,10,100)\n",
    "y = np.linspace(-10,10,100)\n",
    "\n",
    "X, Y = np.meshgrid(x,y)\n",
    "\n",
    "f = 1\n",
    "s = 0.5\n",
    "p = 2\n",
    "o = 1\n",
    "\n",
    "Z = - (o + np.cos(f*np.sqrt(X**2+Y**2))/((s)*(X**2+Y**2)+p))\n",
    "print(Z)\n",
    "fig = plt.figure()\n",
    "ax = fig.add_subplot(projection='3d')\n",
    "ax.plot_surface(x,y,Z)\n",
    "plt.show()\n"
   ]
  }
 ],
 "metadata": {
  "kernelspec": {
   "display_name": "ddc",
   "language": "python",
   "name": "python3"
  },
  "language_info": {
   "codemirror_mode": {
    "name": "ipython",
    "version": 3
   },
   "file_extension": ".py",
   "mimetype": "text/x-python",
   "name": "python",
   "nbconvert_exporter": "python",
   "pygments_lexer": "ipython3",
   "version": "3.11.5"
  }
 },
 "nbformat": 4,
 "nbformat_minor": 2
}
