{
 "cells": [
  {
   "cell_type": "code",
   "execution_count": 1,
   "metadata": {},
   "outputs": [],
   "source": [
    "import matplotlib.pyplot as plt\n",
    "import matplotlib\n",
    "import numpy as np\n",
    "from matplotlib import cm"
   ]
  },
  {
   "cell_type": "code",
   "execution_count": 2,
   "metadata": {},
   "outputs": [],
   "source": [
    "def my_logpdf(x, u, covar):\n",
    "    \"\"\"This function calculates the value of a multivariate Gaussian pdf at a given point x, with mean u and covariance covar\n",
    "\n",
    "    Args:\n",
    "        x : The point at which the pdf is evaluated. Nx1 column vector.\n",
    "        u : The mean vector of the Gaussian distribution. Nx1 column vector.\n",
    "        covar : The covariance matrix of the Gaussian distribution. NxN matrix.\n",
    "\n",
    "    Returns:\n",
    "        The value of the Gaussian pdf at x.\n",
    "    \"\"\"\n",
    "    k = len(x)  # dimension\n",
    "    a = np.transpose(x - u)\n",
    "    b = np.linalg.inv(covar)\n",
    "    c = x - u\n",
    "    d = np.matmul(a, b)\n",
    "    e = np.matmul(d, c)\n",
    "    numer = np.exp(-0.5 * e)\n",
    "    f = (2 * np.pi)**k\n",
    "    g = np.linalg.det(covar)\n",
    "    denom = np.sqrt(f * g)\n",
    "    pdf = numer / denom\n",
    "    return pdf\n",
    "\n"
   ]
  },
  {
   "cell_type": "code",
   "execution_count": 9,
   "metadata": {},
   "outputs": [],
   "source": [
    "base_obstacle = lambda x,y, obstacle: 20*my_logpdf(np.array([x,y]),obstacle,np.diag(np.array([0.02, 0.02], dtype=np.float32)))\n",
    "base_goal = lambda X,Y, goal: 30*((X-goal[0])**2 + (Y-goal[1])**2)\n",
    "dropwave = lambda X,Y,f,s,p,o,k,A, obstacle: A*(o + np.cos(f*np.sqrt(((X-obstacle[0])/k)**2+((Y-obstacle[1])/k)**2)-f*np.sqrt((obstacle[0]/k)**2+(obstacle[1]/k)**2))/((s)*((X-obstacle[0])**2+(Y-obstacle[1])**2)+p))\n",
    "dropwave_attenuation = lambda X,Y,f,s,p,o,k,A,goal,obstacle,alpha,beta: dropwave(X,Y,f,s,p,o,k,A, obstacle) * np.exp(alpha*np.sqrt((X-goal[0])**2+(Y-goal[1])**2)) * np.exp(-beta*np.sqrt((X-obstacle[0])**2+(Y-obstacle[1])**2))"
   ]
  },
  {
   "cell_type": "code",
   "execution_count": 10,
   "metadata": {},
   "outputs": [],
   "source": [
    "f = 1\n",
    "s = 1\n",
    "p = 1\n",
    "o = 1\n",
    "k = 1\n",
    "A = 1\n",
    "zita = 1\n",
    "alpha = 1\n",
    "beta = 1\n",
    "goal = np.array(np.mat('1.0; 0.0; 0'))\n",
    "obstacles = np.array(np.mat('0.0 0.0 0.0; 0.0 -0.3 0.3; 0 0 0 '))"
   ]
  },
  {
   "cell_type": "code",
   "execution_count": 11,
   "metadata": {},
   "outputs": [],
   "source": [
    "%matplotlib tk\n",
    "n_points_x = 300\n",
    "n_points_y = 200\n",
    "x = np.linspace(-1.5,1.5,n_points_x)\n",
    "y = np.linspace(-1,1,n_points_y)\n",
    "\n",
    "X, Y = np.meshgrid(x,y)\n",
    "\n",
    "base_obstacle_map= np.zeros((n_points_x,n_points_y))\n",
    "\n",
    "for i in range(n_points_x):\n",
    "    for j in range(n_points_y):\n",
    "        for obstacle in obstacles[:2,:].T:\n",
    "            base_obstacle_map[i,j] += base_obstacle(x[i],y[j], obstacle)"
   ]
  },
  {
   "cell_type": "code",
   "execution_count": 12,
   "metadata": {},
   "outputs": [
    {
     "data": {
      "text/plain": [
       "<matplotlib.colorbar.Colorbar at 0x7f60cee9c0d0>"
      ]
     },
     "execution_count": 12,
     "metadata": {},
     "output_type": "execute_result"
    }
   ],
   "source": [
    "cost = sum([dropwave_attenuation(X,Y,f,s,p,o,k,A,goal, obstacle, alpha , beta) for obstacle in obstacles[:2,:].T]) + base_obstacle_map.T + base_goal(X,Y,goal)\n",
    "cost_gradient = np.gradient(cost)\n",
    "cost_gradient_module = np.sqrt(cost_gradient[0]**2 + cost_gradient[1]**2)\n",
    "\n",
    "fig = plt.figure(figsize=(20,20))\n",
    "ax = fig.add_subplot(2,1,1,projection='3d')\n",
    "\n",
    "#p: Inversamente proprozionale al picco\n",
    "#s: Inversamente proprozionale al cratere\n",
    "#f: legato alla frequenza\n",
    "#o: Un offset\n",
    "surf = ax.plot_surface(X,Y,cost, cmap=cm.coolwarm)\n",
    "# fix axis to robotarium size\n",
    "ax.set_xlim(-1.5,1.5)\n",
    "ax.set_ylim(-1,1)\n",
    "ax.set_zlim(-10,100)\n",
    "\n",
    "ax2 = fig.add_subplot(2,1,2)\n",
    "heathmap = ax2.pcolormesh(X,Y,cost_gradient_module, vmin=0, vmax=2, cmap='RdGy')\n",
    "fig.colorbar(heathmap, ax=ax2)"
   ]
  },
  {
   "cell_type": "code",
   "execution_count": 13,
   "metadata": {},
   "outputs": [
    {
     "data": {
      "application/vnd.jupyter.widget-view+json": {
       "model_id": "dc4f978cccb2470e8de592628d9ffe5e",
       "version_major": 2,
       "version_minor": 0
      },
      "text/plain": [
       "FloatSlider(value=100.0, description='f:', max=500.0, min=1e-05, step=1e-05)"
      ]
     },
     "metadata": {},
     "output_type": "display_data"
    },
    {
     "data": {
      "application/vnd.jupyter.widget-view+json": {
       "model_id": "89ae9980aebd437688c923f8ddd36467",
       "version_major": 2,
       "version_minor": 0
      },
      "text/plain": [
       "FloatSlider(value=100.0, description='s:', min=0.0001, step=0.001)"
      ]
     },
     "metadata": {},
     "output_type": "display_data"
    },
    {
     "data": {
      "application/vnd.jupyter.widget-view+json": {
       "model_id": "e7cc34613814407c98eb41ee9bb54f9c",
       "version_major": 2,
       "version_minor": 0
      },
      "text/plain": [
       "FloatSlider(value=30.0, description='p:', max=250.0, min=0.0001, step=0.001)"
      ]
     },
     "metadata": {},
     "output_type": "display_data"
    },
    {
     "data": {
      "application/vnd.jupyter.widget-view+json": {
       "model_id": "0ae8661f6f4a4aaf92272061f2136ef2",
       "version_major": 2,
       "version_minor": 0
      },
      "text/plain": [
       "FloatSlider(value=0.0, description='o:', max=10.0, step=0.001)"
      ]
     },
     "metadata": {},
     "output_type": "display_data"
    },
    {
     "data": {
      "application/vnd.jupyter.widget-view+json": {
       "model_id": "43ee2200eecf40a39f6f967be53af320",
       "version_major": 2,
       "version_minor": 0
      },
      "text/plain": [
       "FloatSlider(value=7.41, description='k:', max=20.0, step=0.001)"
      ]
     },
     "metadata": {},
     "output_type": "display_data"
    },
    {
     "data": {
      "application/vnd.jupyter.widget-view+json": {
       "model_id": "7fece90f3b3647c2a84073169a16ab9c",
       "version_major": 2,
       "version_minor": 0
      },
      "text/plain": [
       "FloatSlider(value=37.16, description='A:', step=0.001)"
      ]
     },
     "metadata": {},
     "output_type": "display_data"
    },
    {
     "data": {
      "application/vnd.jupyter.widget-view+json": {
       "model_id": "c56be5d79f834ae8b2919f59c4ae1c71",
       "version_major": 2,
       "version_minor": 0
      },
      "text/plain": [
       "FloatSlider(value=1.0, description='alpha:', max=20.0, step=1e-05)"
      ]
     },
     "metadata": {},
     "output_type": "display_data"
    },
    {
     "data": {
      "application/vnd.jupyter.widget-view+json": {
       "model_id": "80a8b1259d434cb4875c6bb730848580",
       "version_major": 2,
       "version_minor": 0
      },
      "text/plain": [
       "FloatSlider(value=1.0, description='beta:', max=30.0, step=1e-05)"
      ]
     },
     "metadata": {},
     "output_type": "display_data"
    },
    {
     "name": "stderr",
     "output_type": "stream",
     "text": [
      "/tmp/ipykernel_47397/4098247959.py:3: RuntimeWarning: divide by zero encountered in divide\n",
      "  dropwave = lambda X,Y,f,s,p,o,k,A, obstacle: A*(o + np.cos(f*np.sqrt(((X-obstacle[0])/k)**2+((Y-obstacle[1])/k)**2)-f*np.sqrt((obstacle[0]/k)**2+(obstacle[1]/k)**2))/((s)*((X-obstacle[0])**2+(Y-obstacle[1])**2)+p))\n",
      "/tmp/ipykernel_47397/4098247959.py:3: RuntimeWarning: invalid value encountered in scalar divide\n",
      "  dropwave = lambda X,Y,f,s,p,o,k,A, obstacle: A*(o + np.cos(f*np.sqrt(((X-obstacle[0])/k)**2+((Y-obstacle[1])/k)**2)-f*np.sqrt((obstacle[0]/k)**2+(obstacle[1]/k)**2))/((s)*((X-obstacle[0])**2+(Y-obstacle[1])**2)+p))\n",
      "/tmp/ipykernel_47397/4098247959.py:3: RuntimeWarning: divide by zero encountered in scalar divide\n",
      "  dropwave = lambda X,Y,f,s,p,o,k,A, obstacle: A*(o + np.cos(f*np.sqrt(((X-obstacle[0])/k)**2+((Y-obstacle[1])/k)**2)-f*np.sqrt((obstacle[0]/k)**2+(obstacle[1]/k)**2))/((s)*((X-obstacle[0])**2+(Y-obstacle[1])**2)+p))\n",
      "/tmp/ipykernel_47397/4098247959.py:3: RuntimeWarning: divide by zero encountered in divide\n",
      "  dropwave = lambda X,Y,f,s,p,o,k,A, obstacle: A*(o + np.cos(f*np.sqrt(((X-obstacle[0])/k)**2+((Y-obstacle[1])/k)**2)-f*np.sqrt((obstacle[0]/k)**2+(obstacle[1]/k)**2))/((s)*((X-obstacle[0])**2+(Y-obstacle[1])**2)+p))\n",
      "/tmp/ipykernel_47397/4098247959.py:3: RuntimeWarning: invalid value encountered in scalar divide\n",
      "  dropwave = lambda X,Y,f,s,p,o,k,A, obstacle: A*(o + np.cos(f*np.sqrt(((X-obstacle[0])/k)**2+((Y-obstacle[1])/k)**2)-f*np.sqrt((obstacle[0]/k)**2+(obstacle[1]/k)**2))/((s)*((X-obstacle[0])**2+(Y-obstacle[1])**2)+p))\n",
      "/tmp/ipykernel_47397/4098247959.py:3: RuntimeWarning: divide by zero encountered in scalar divide\n",
      "  dropwave = lambda X,Y,f,s,p,o,k,A, obstacle: A*(o + np.cos(f*np.sqrt(((X-obstacle[0])/k)**2+((Y-obstacle[1])/k)**2)-f*np.sqrt((obstacle[0]/k)**2+(obstacle[1]/k)**2))/((s)*((X-obstacle[0])**2+(Y-obstacle[1])**2)+p))\n"
     ]
    }
   ],
   "source": [
    "import ipywidgets as widgets\n",
    "from IPython.display import display\n",
    "\n",
    "# Define the sliders\n",
    "f_slider = widgets.FloatSlider(min=0.00001, max=500.0, step=0.00001, value=100, description='f:')\n",
    "s_slider = widgets.FloatSlider(min=0.0001, max=100.0, step=0.001, value=100, description='s:')\n",
    "p_slider = widgets.FloatSlider(min=0.0001, max=250.0, step=0.001, value=30.0, description='p:')\n",
    "o_slider = widgets.FloatSlider(min=0.0, max=10.0, step=0.001, value=0.0, description='o:')\n",
    "k_slider = widgets.FloatSlider(min=0.0, max=20.0, step=0.001, value=7.41, description='k:')\n",
    "A_slider = widgets.FloatSlider(min=0.0, max=100.0, step=0.001, value=37.16, description='A:')\n",
    "alpha_slider = widgets.FloatSlider(min=0.0, max=20.0, step=0.00001, value=1.0, description='alpha:')\n",
    "beta_slider = widgets.FloatSlider(min=0, max=30.0, step=0.00001, value=1.0, description='beta:')\n",
    "\n",
    "# Display the sliders\n",
    "display(f_slider, s_slider, p_slider, o_slider, k_slider, A_slider, alpha_slider, beta_slider)\n",
    "\n",
    "# Update the function to use the slider values\n",
    "def update_plot():\n",
    "    f = f_slider.value\n",
    "    s = s_slider.value\n",
    "    p = p_slider.value\n",
    "    o = o_slider.value\n",
    "    k = k_slider.value\n",
    "    A = A_slider.value\n",
    "    alpha = alpha_slider.value\n",
    "    beta = beta_slider.value\n",
    "    \n",
    "    cost = sum([dropwave_attenuation(X,Y,f,s,p,o,k,A,goal, obstacle, alpha , beta) for obstacle in obstacles[:2,:].T]) + base_obstacle_map.T + base_goal(X,Y,goal)\n",
    "    cost_gradient = np.gradient(cost)\n",
    "    cost_gradient_module = np.sqrt(cost_gradient[0]**2 + cost_gradient[1]**2)\n",
    "    \n",
    "    \n",
    "    ax.clear()\n",
    "    surf = ax.plot_surface(X,Y,cost, cmap=cm.coolwarm)\n",
    "    ax.set_xlim(-1.5,1.5)\n",
    "    ax.set_ylim(-1,1)\n",
    "    ax.set_zlim(-5,100)\n",
    "    \n",
    "    ax2.clear()\n",
    "    heathmap = ax2.pcolormesh(X,Y,cost_gradient_module, vmin=0, vmax=2, cmap='RdGy')\n",
    "\n",
    "\n",
    "# Call the update function when a slider value changes\n",
    "f_slider.observe(lambda change: update_plot(), names='value')\n",
    "s_slider.observe(lambda change: update_plot(), names='value')\n",
    "p_slider.observe(lambda change: update_plot(), names='value')\n",
    "o_slider.observe(lambda change: update_plot(), names='value')\n",
    "k_slider.observe(lambda change: update_plot(), names='value')\n",
    "A_slider.observe(lambda change: update_plot(), names='value')\n",
    "alpha_slider.observe(lambda change: update_plot(), names='value')\n",
    "beta_slider.observe(lambda change: update_plot(), names='value')\n",
    "\n",
    "# Initial plot\n",
    "update_plot()"
   ]
  },
  {
   "cell_type": "code",
   "execution_count": 20,
   "metadata": {},
   "outputs": [
    {
     "name": "stdout",
     "output_type": "stream",
     "text": [
      "'f': 141.087560,\n",
      "'s': 79.038100,\n",
      "'p': 250.000000,\n",
      "'o': 0.000000,\n",
      "'k': 10.164000,\n",
      "'A': 12.929000,\n",
      "'alpha': 6.804740,\n",
      "'beta': 10.892710,\n"
     ]
    }
   ],
   "source": [
    "print(\"'f': %f,\" % f_slider.value)\n",
    "print(\"'s': %f,\" % s_slider.value)\n",
    "print(\"'p': %f,\" % p_slider.value)\n",
    "print(\"'o': %f,\" % o_slider.value)\n",
    "print(\"'k': %f,\" % k_slider.value)\n",
    "print(\"'A': %f,\" % A_slider.value)\n",
    "print(\"'alpha': %f,\" % alpha_slider.value)\n",
    "print(\"'beta': %f,\" % beta_slider.value)"
   ]
  }
 ],
 "metadata": {
  "kernelspec": {
   "display_name": "ddc",
   "language": "python",
   "name": "python3"
  },
  "language_info": {
   "codemirror_mode": {
    "name": "ipython",
    "version": 3
   },
   "file_extension": ".py",
   "mimetype": "text/x-python",
   "name": "python",
   "nbconvert_exporter": "python",
   "pygments_lexer": "ipython3",
   "version": "3.11.5"
  }
 },
 "nbformat": 4,
 "nbformat_minor": 2
}
