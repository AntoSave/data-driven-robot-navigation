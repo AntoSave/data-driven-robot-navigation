{
 "cells": [
  {
   "cell_type": "code",
   "execution_count": 2,
   "metadata": {},
   "outputs": [],
   "source": [
    "import matplotlib.pyplot as plt\n",
    "import matplotlib\n",
    "import numpy as np\n",
    "from matplotlib import cm"
   ]
  },
  {
   "cell_type": "code",
   "execution_count": 3,
   "metadata": {},
   "outputs": [],
   "source": [
    "def my_logpdf(x, u, covar):\n",
    "    \"\"\"This function calculates the value of a multivariate Gaussian pdf at a given point x, with mean u and covariance covar\n",
    "\n",
    "    Args:\n",
    "        x : The point at which the pdf is evaluated. Nx1 column vector.\n",
    "        u : The mean vector of the Gaussian distribution. Nx1 column vector.\n",
    "        covar : The covariance matrix of the Gaussian distribution. NxN matrix.\n",
    "\n",
    "    Returns:\n",
    "        The value of the Gaussian pdf at x.\n",
    "    \"\"\"\n",
    "    k = len(x)  # dimension\n",
    "    a = np.transpose(x - u)\n",
    "    b = np.linalg.inv(covar)\n",
    "    c = x - u\n",
    "    d = np.matmul(a, b)\n",
    "    e = np.matmul(d, c)\n",
    "    numer = np.exp(-0.5 * e)\n",
    "    f = (2 * np.pi)**k\n",
    "    g = np.linalg.det(covar)\n",
    "    denom = np.sqrt(f * g)\n",
    "    pdf = numer / denom\n",
    "    return pdf\n",
    "\n"
   ]
  },
  {
   "cell_type": "code",
   "execution_count": 4,
   "metadata": {},
   "outputs": [],
   "source": [
    "base_obstacle = lambda x,y, obstacle: 20*my_logpdf(np.array([x,y]),obstacle,np.diag(np.array([0.02, 0.02], dtype=np.float32)))\n",
    "base_goal = lambda X,Y, goal: 30*((X-goal[0])**2 + (Y-goal[1])**2)\n",
    "dropwave = lambda X,Y,f,s,p,o,k,A: A*(o + np.cos(f*np.sqrt((X/k)**2+(Y/k)**2))/((s)*(X**2+Y**2)+p))\n",
    "dropwave_attenuation = lambda X,Y,f,s,p,o,k,A,goal,obstacle,alpha,beta: dropwave(X,Y,f,s,p,o,k,A) * np.exp(alpha*np.sqrt((X-goal[0])**2+(Y-goal[1])**2)) * np.exp(-beta*np.sqrt((X-obstacle[0])**2+(Y-obstacle[1])**2))"
   ]
  },
  {
   "cell_type": "code",
   "execution_count": 6,
   "metadata": {},
   "outputs": [],
   "source": [
    "f = 1\n",
    "s = 1\n",
    "p = 1\n",
    "o = 1\n",
    "k = 1\n",
    "A = 1\n",
    "zita = 1\n",
    "alpha = 1\n",
    "beta = 1\n",
    "goal = np.array([0,-1.0])\n",
    "obstacle = np.array([0,0])"
   ]
  },
  {
   "cell_type": "code",
   "execution_count": 7,
   "metadata": {},
   "outputs": [],
   "source": [
    "%matplotlib tk\n",
    "n_points_x = 300\n",
    "n_points_y = 200\n",
    "x = np.linspace(-1.5,1.5,n_points_x)\n",
    "y = np.linspace(-1,1,n_points_y)\n",
    "\n",
    "X, Y = np.meshgrid(x,y)\n",
    "\n",
    "base_obstacle_map= np.zeros((n_points_x,n_points_y))\n",
    "\n",
    "for i in range(n_points_x):\n",
    "    for j in range(n_points_y):\n",
    "        base_obstacle_map[i,j] = base_obstacle(x[i],y[j], obstacle)"
   ]
  },
  {
   "cell_type": "code",
   "execution_count": 17,
   "metadata": {},
   "outputs": [
    {
     "data": {
      "text/plain": [
       "<matplotlib.colorbar.Colorbar at 0x7efd591d0f50>"
      ]
     },
     "execution_count": 17,
     "metadata": {},
     "output_type": "execute_result"
    }
   ],
   "source": [
    "cost = dropwave_attenuation(X,Y,f,s,p,o,k,A,goal, obstacle, alpha , beta) + base_obstacle_map.T + base_goal(X,Y,goal)\n",
    "cost_gradient = np.gradient(cost)\n",
    "cost_gradient_module = np.sqrt(cost_gradient[0]**2 + cost_gradient[1]**2)\n",
    "\n",
    "fig = plt.figure(figsize=(20,20))\n",
    "ax = fig.add_subplot(2,1,1,projection='3d')\n",
    "\n",
    "#p: Inversamente proprozionale al picco\n",
    "#s: Inversamente proprozionale al cratere\n",
    "#f: legato alla frequenza\n",
    "#o: Un offset\n",
    "surf = ax.plot_surface(X,Y,cost, cmap=cm.coolwarm)\n",
    "# fix axis to robotarium size\n",
    "ax.set_xlim(-1.5,1.5)\n",
    "ax.set_ylim(-1,1)\n",
    "ax.set_zlim(-10,100)\n",
    "\n",
    "ax2 = fig.add_subplot(2,1,2)\n",
    "heathmap = ax2.pcolormesh(X,Y,cost_gradient_module, vmin=0, vmax=2)\n",
    "fig.colorbar(heathmap, ax=ax2)"
   ]
  },
  {
   "cell_type": "code",
   "execution_count": 25,
   "metadata": {},
   "outputs": [
    {
     "data": {
      "application/vnd.jupyter.widget-view+json": {
       "model_id": "32ccfb4b356c48b2a555a1cdba9e9761",
       "version_major": 2,
       "version_minor": 0
      },
      "text/plain": [
       "FloatSlider(value=100.0, description='f:', max=250.0, min=1e-05, step=1e-05)"
      ]
     },
     "metadata": {},
     "output_type": "display_data"
    },
    {
     "data": {
      "application/vnd.jupyter.widget-view+json": {
       "model_id": "251cce0fa0ca47d78975119e66cd2e0c",
       "version_major": 2,
       "version_minor": 0
      },
      "text/plain": [
       "FloatSlider(value=100.0, description='s:', max=1000.0, min=0.0001, step=0.001)"
      ]
     },
     "metadata": {},
     "output_type": "display_data"
    },
    {
     "data": {
      "application/vnd.jupyter.widget-view+json": {
       "model_id": "63356cd1c10f4be083599f205f954d38",
       "version_major": 2,
       "version_minor": 0
      },
      "text/plain": [
       "FloatSlider(value=30.0, description='p:', max=1500.0, min=0.0001, step=0.001)"
      ]
     },
     "metadata": {},
     "output_type": "display_data"
    },
    {
     "data": {
      "application/vnd.jupyter.widget-view+json": {
       "model_id": "7ea55d07fd1949639073d67f645b66c0",
       "version_major": 2,
       "version_minor": 0
      },
      "text/plain": [
       "FloatSlider(value=0.0, description='o:', max=10.0, step=0.001)"
      ]
     },
     "metadata": {},
     "output_type": "display_data"
    },
    {
     "data": {
      "application/vnd.jupyter.widget-view+json": {
       "model_id": "8612c0fee2d34d219c1114d419ca1030",
       "version_major": 2,
       "version_minor": 0
      },
      "text/plain": [
       "FloatSlider(value=7.41, description='k:', max=20.0, step=0.001)"
      ]
     },
     "metadata": {},
     "output_type": "display_data"
    },
    {
     "data": {
      "application/vnd.jupyter.widget-view+json": {
       "model_id": "d39d40295b6c432f932187a3ca497cd4",
       "version_major": 2,
       "version_minor": 0
      },
      "text/plain": [
       "FloatSlider(value=37.16, description='A:', max=1000.0, step=0.001)"
      ]
     },
     "metadata": {},
     "output_type": "display_data"
    },
    {
     "data": {
      "application/vnd.jupyter.widget-view+json": {
       "model_id": "b4958f0efa4443d8984859c76fd873b5",
       "version_major": 2,
       "version_minor": 0
      },
      "text/plain": [
       "FloatSlider(value=1.0, description='alpha:', max=10.0, step=1e-05)"
      ]
     },
     "metadata": {},
     "output_type": "display_data"
    },
    {
     "data": {
      "application/vnd.jupyter.widget-view+json": {
       "model_id": "4309e7f5e26e4cf7be642aec1e034b67",
       "version_major": 2,
       "version_minor": 0
      },
      "text/plain": [
       "FloatSlider(value=1.0, description='beta:', max=10.0, step=1e-05)"
      ]
     },
     "metadata": {},
     "output_type": "display_data"
    }
   ],
   "source": [
    "import ipywidgets as widgets\n",
    "from IPython.display import display\n",
    "\n",
    "# Define the sliders\n",
    "f_slider = widgets.FloatSlider(min=0.00001, max=250.0, step=0.00001, value=100, description='f:')\n",
    "s_slider = widgets.FloatSlider(min=0.0001, max=1000.0, step=0.001, value=100, description='s:')\n",
    "p_slider = widgets.FloatSlider(min=0.0001, max=1500.0, step=0.001, value=30.0, description='p:')\n",
    "o_slider = widgets.FloatSlider(min=0.0, max=10.0, step=0.001, value=0.0, description='o:')\n",
    "k_slider = widgets.FloatSlider(min=0.0, max=20.0, step=0.001, value=7.41, description='k:')\n",
    "A_slider = widgets.FloatSlider(min=0.0, max=1000.0, step=0.001, value=37.16, description='A:')\n",
    "alpha_slider = widgets.FloatSlider(min=0.0, max=10.0, step=0.00001, value=1.0, description='alpha:')\n",
    "beta_slider = widgets.FloatSlider(min=0, max=10.0, step=0.00001, value=1.0, description='beta:')\n",
    "\n",
    "# Display the sliders\n",
    "display(f_slider, s_slider, p_slider, o_slider, k_slider, A_slider, alpha_slider, beta_slider)\n",
    "\n",
    "# Update the function to use the slider values\n",
    "def update_plot():\n",
    "    f = f_slider.value\n",
    "    s = s_slider.value\n",
    "    p = p_slider.value\n",
    "    o = o_slider.value\n",
    "    k = k_slider.value\n",
    "    A = A_slider.value\n",
    "    alpha = alpha_slider.value\n",
    "    beta = beta_slider.value\n",
    "    \n",
    "    cost = dropwave_attenuation(X,Y,f,s,p,o,k,A,goal, obstacle, alpha , beta) + base_obstacle_map.T + base_goal(X,Y,goal)\n",
    "    cost_gradient = np.gradient(cost)\n",
    "    cost_gradient_module = np.sqrt(cost_gradient[0]**2 + cost_gradient[1]**2)\n",
    "    \n",
    "    \n",
    "    ax.clear()\n",
    "    surf = ax.plot_surface(X,Y,cost, cmap=cm.coolwarm)\n",
    "    ax.set_xlim(-1.5,1.5)\n",
    "    ax.set_ylim(-1,1)\n",
    "    ax.set_zlim(-5,100)\n",
    "    \n",
    "    ax2.clear()\n",
    "    heathmap = ax2.pcolormesh(X,Y,cost_gradient_module, vmin=0, vmax=2)\n",
    "\n",
    "\n",
    "# Call the update function when a slider value changes\n",
    "f_slider.observe(lambda change: update_plot(), names='value')\n",
    "s_slider.observe(lambda change: update_plot(), names='value')\n",
    "p_slider.observe(lambda change: update_plot(), names='value')\n",
    "o_slider.observe(lambda change: update_plot(), names='value')\n",
    "k_slider.observe(lambda change: update_plot(), names='value')\n",
    "A_slider.observe(lambda change: update_plot(), names='value')\n",
    "alpha_slider.observe(lambda change: update_plot(), names='value')\n",
    "beta_slider.observe(lambda change: update_plot(), names='value')\n",
    "\n",
    "# Initial plot\n",
    "update_plot()"
   ]
  },
  {
   "cell_type": "code",
   "execution_count": 28,
   "metadata": {},
   "outputs": [
    {
     "name": "stdout",
     "output_type": "stream",
     "text": [
      "f =  57.67374\n",
      "s =  100.0001\n",
      "p =  30.000100000000003\n",
      "o =  0.0\n",
      "k =  4.185\n",
      "A =  21.035\n",
      "alpha =  4.54734\n",
      "beta =  5.917910000000001\n"
     ]
    }
   ],
   "source": [
    "print(\"f = \", f_slider.value)\n",
    "print(\"s = \", s_slider.value)\n",
    "print(\"p = \", p_slider.value)\n",
    "print(\"o = \", o_slider.value)\n",
    "print(\"k = \", k_slider.value)\n",
    "print(\"A = \", A_slider.value)\n",
    "print(\"alpha = \", alpha_slider.value)\n",
    "print(\"beta = \", beta_slider.value)"
   ]
  }
 ],
 "metadata": {
  "kernelspec": {
   "display_name": "ddc",
   "language": "python",
   "name": "python3"
  },
  "language_info": {
   "codemirror_mode": {
    "name": "ipython",
    "version": 3
   },
   "file_extension": ".py",
   "mimetype": "text/x-python",
   "name": "python",
   "nbconvert_exporter": "python",
   "pygments_lexer": "ipython3",
   "version": "3.11.5"
  }
 },
 "nbformat": 4,
 "nbformat_minor": 2
}
