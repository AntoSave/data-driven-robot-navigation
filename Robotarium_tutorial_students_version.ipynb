{
 "cells": [
  {
   "cell_type": "code",
   "execution_count": 1,
   "metadata": {
    "colab": {
     "base_uri": "https://localhost:8080/",
     "height": 493
    },
    "id": "gVnWq2o6fYCM",
    "outputId": "8dfbf397-4820-4726-caaf-a21e0b322e2c"
   },
   "outputs": [],
   "source": [
    "import rps.robotarium as robotarium\n",
    "from rps.utilities.transformations import *\n",
    "from rps.utilities.barrier_certificates import *\n",
    "from rps.utilities.misc import *\n",
    "from rps.utilities.controllers import *\n",
    "\n",
    "import numpy as np\n",
    "import time\n"
   ]
  },
  {
   "cell_type": "code",
   "execution_count": 2,
   "metadata": {},
   "outputs": [
    {
     "data": {
      "image/png": "[encoded data removed]",
      "text/plain": [
       "<Figure size 640x480 with 1 Axes>"
      ]
     },
     "metadata": {},
     "output_type": "display_data"
    },
    {
     "data": {
      "text/plain": [
       "<Figure size 640x480 with 0 Axes>"
      ]
     },
     "metadata": {},
     "output_type": "display_data"
    }
   ],
   "source": [
    "X_plot = [] #Position log for plotting\n",
    "\n",
    "# Instantiate Robotarium object\n",
    "N = 1 #One robot\n",
    "init_conditions = np.array(np.mat('1; 0.8; 0')) #Initial robot pose\n",
    "\n",
    "r = robotarium.Robotarium(number_of_robots=N, show_figure=True, initial_conditions=init_conditions, sim_in_real_time=False) #Launch the Robotarium\n",
    "\n",
    "# Task: what does this function do?\n",
    "goal_points = generate_initial_conditions(N)\n",
    "\n",
    "# For this example we will use a stock controller given by the robotarium: in the project you will create your own controller\n",
    "single_integrator_position_controller = create_si_position_controller()\n",
    "\"\"\"Qui sostituiremo il nostro controllore\"\"\"\n",
    "# Create barrier certificates to avoid collision\n",
    "si_barrier_cert = create_single_integrator_barrier_certificate_with_boundary()\n",
    "\n",
    "# Task: what do these lines do?\n",
    "\"\"\"SI sta per single integrator. Dobbiamo fare una tasformazione delle coordinate perché .......\n",
    "\"\"\"\n",
    "_, uni_to_si_states = create_si_to_uni_mapping()\n",
    "si_to_uni_dyn = create_si_to_uni_dynamics_with_backwards_motion()\n",
    "\n",
    "# Initial poses\n",
    "x = r.get_poses() #Unicycle state\n",
    "x_si = uni_to_si_states(x) #x-y position\n",
    "r.step()\n",
    "X_plot.append(x_si)"
   ]
  },
  {
   "cell_type": "code",
   "execution_count": 3,
   "metadata": {},
   "outputs": [
    {
     "name": "stdout",
     "output_type": "stream",
     "text": [
      "##### DEBUG OUTPUT #####\n",
      "Your simulation will take approximately 16 real seconds when deployed on the Robotarium. \n",
      "\n",
      "\t Simulation had 12 iteration(s) where the actuator limits were exceeded.\n"
     ]
    }
   ],
   "source": [
    "# This is a general stopping condition: we check how many agents are 'close enough' to the goal and, if they all are, we can stop the simulation\n",
    "while (np.size(at_pose(np.vstack((x_si,x[2,:])), goal_points, rotation_error=100)) != N):\n",
    "    #Explaining the code above: the unicycle state takes the center of rotation of the robot as [0,0] while the state we use (so called single integrator state) uses the 'nose' of the robot. Hence these two are offset and we need to convert back and forth (this can also be noted when we will plot the robot's trajectory the 'true' starting point is slightly offset from the one we gave to the simulator).\n",
    "    \"\"\"La codizione dice di continuare finché un robot non è sufficientemente vicino al goal. Per ora prendiamola as-is\"\"\"\n",
    "    #Main simulation loop\n",
    "    # Get poses of agents\n",
    "    x = r.get_poses() #Recupero lo stato dei robot che in questo caso è quello ver\n",
    "    x_si = uni_to_si_states(x) #Qui lo stato è trasformato nell'integratore singolo\n",
    "\n",
    "    # Create single-integrator control inputs\n",
    "    # In the project you will create your own controller. \n",
    "    # Task: How do you think this can be done?\n",
    "    dxi = single_integrator_position_controller(x_si, goal_points[:2][:]) \n",
    "    #dopodiché diamo l'ingresso di controllo. In questo momento non ci siamo creati nulla stiamo usando il controllore del robotarium.\n",
    "    #lo faremo definendo una nuova funzione che racchiude il cotnrollore. Dato lo stato nel sistema dell'integratore e goal points che sono gli obiettivi\n",
    "    # noi....\n",
    "\n",
    "    \n",
    "\n",
    "    # Create safe control inputs (i.e., no collisions)\n",
    "    dxi = si_barrier_cert(dxi, x_si)#non lo considereremo \n",
    "\n",
    "    # Task: what does this function do?\n",
    "    dxu = si_to_uni_dyn(dxi, x) #calcola l'ingresso di controllo. Dato lo stato ci restituisce il prossimo stato????\n",
    "\n",
    "    # Set the velocities by mapping the single-integrator inputs to unciycle inputs\n",
    "    r.set_velocities(np.arange(N), dxu) #impostiamo le velocità\n",
    "    # Iterate the simulation\n",
    "    r.step()\n",
    "\n",
    "    X_plot.append(x_si)#ci salviamo la storia per plottare successivamente\n",
    "\n",
    "#Call at end of script to print debug information and for your script to run on the Robotarium server properly\n",
    "r.call_at_scripts_end()"
   ]
  },
  {
   "cell_type": "code",
   "execution_count": 4,
   "metadata": {
    "colab": {
     "base_uri": "https://localhost:8080/",
     "height": 472
    },
    "id": "l40a0nfhf42a",
    "outputId": "3b026f5b-93f6-4748-8af9-352fdf453a81"
   },
   "outputs": [
    {
     "data": {
      "text/plain": [
       "Text(0, 0.5, 'Y [m]')"
      ]
     },
     "execution_count": 4,
     "metadata": {},
     "output_type": "execute_result"
    },
    {
     "data": {
      "image/png": "[encoded data removed]",
      "text/plain": [
       "<Figure size 640x480 with 1 Axes>"
      ]
     },
     "metadata": {},
     "output_type": "display_data"
    }
   ],
   "source": [
    "import matplotlib.pyplot as plt\n",
    "from matplotlib import cm\n",
    "from matplotlib.ticker import LinearLocator\n",
    "import numpy as np\n",
    "\n",
    "X_plot = np.array(X_plot)\n",
    "#Task: create of plot of the trajector\n",
    "plt.plot(X_plot[:,0],X_plot[:,1], linewidth=2)\n",
    "\"\"\"Stiamo plottando la prima e la seconda dimensione di X_plot ovvero della posa perché non ci interessa l'angolo\"\"\"\n",
    "#Drawing options\n",
    "plt.ylim(-1,1)\n",
    "plt.xlim(-1.5,1.5)\n",
    "plt.xlabel('X [m]')\n",
    "plt.ylabel('Y [m]')"
   ]
  },
  {
   "cell_type": "code",
   "execution_count": null,
   "metadata": {},
   "outputs": [],
   "source": []
  }
 ],
 "metadata": {
  "colab": {
   "provenance": []
  },
  "kernelspec": {
   "display_name": "Python 3",
   "language": "python",
   "name": "python3"
  },
  "language_info": {
   "codemirror_mode": {
    "name": "ipython",
    "version": 3
   },
   "file_extension": ".py",
   "mimetype": "text/x-python",
   "name": "python",
   "nbconvert_exporter": "python",
   "pygments_lexer": "ipython3",
   "version": "3.10.12"
  }
 },
 "nbformat": 4,
 "nbformat_minor": 1
}
