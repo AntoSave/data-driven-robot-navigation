{
 "cells": [
  {
   "cell_type": "code",
   "execution_count": 1,
   "metadata": {},
   "outputs": [],
   "source": [
    "import matplotlib.pyplot as plt\n",
    "import matplotlib\n",
    "import numpy as np\n",
    "from matplotlib import cm"
   ]
  },
  {
   "cell_type": "code",
   "execution_count": 8,
   "metadata": {},
   "outputs": [],
   "source": [
    "def my_logpdf(x, u, covar):\n",
    "    \"\"\"This function calculates the value of a multivariate Gaussian pdf at a given point x, with mean u and covariance covar\n",
    "\n",
    "    Args:\n",
    "        x : The point at which the pdf is evaluated. Nx1 column vector.\n",
    "        u : The mean vector of the Gaussian distribution. Nx1 column vector.\n",
    "        covar : The covariance matrix of the Gaussian distribution. NxN matrix.\n",
    "\n",
    "    Returns:\n",
    "        The value of the Gaussian pdf at x.\n",
    "    \"\"\"\n",
    "    k = len(x)  # dimension\n",
    "    a = np.transpose(x - u)\n",
    "    b = np.linalg.inv(covar)\n",
    "    c = x - u\n",
    "    d = np.matmul(a, b)\n",
    "    e = np.matmul(d, c)\n",
    "    numer = np.exp(-0.5 * e)\n",
    "    f = (2 * np.pi)**k\n",
    "    g = np.linalg.det(covar)\n",
    "    denom = np.sqrt(f * g)\n",
    "    pdf = numer / denom\n",
    "    return pdf"
   ]
  },
  {
   "cell_type": "code",
   "execution_count": 5,
   "metadata": {},
   "outputs": [],
   "source": [
    "# Original state cost function\n",
    "def state_cost(state,goal_points,obs_points):\n",
    "    v = np.array([0.02, 0.02], dtype=np.float32)\n",
    "    covar = np.diag(v)\n",
    "    gauss_sum = 0\n",
    "\n",
    "    for i in range(np.size(obs_points,axis=1)):\n",
    "        gauss_sum += 20*my_logpdf(state[:2],obs_points[:2,i],covar)\n",
    "\n",
    "    cost = 30*((state[0]-goal_points[0])**2 + (state[1]-goal_points[1])**2) + gauss_sum + 10*(np.exp(-0.5*((state[0]-(-1.5))/0.02)**2)/(0.02*np.sqrt(2*np.pi))\n",
    "                + np.exp(-0.5*((state[0]-1.5)/0.02)**2)/(0.02*np.sqrt(2*np.pi)) + np.exp(-0.5*((state[1]-1.0)/0.02)**2)/(0.02*np.sqrt(2*np.pi))\n",
    "                + np.exp(-0.5*((state[1]-(-1.0))/0.02)**2)/(0.02*np.sqrt(2*np.pi)))\n",
    "    return(cost)\n",
    "\n",
    "base_obstacle = lambda x,y, obstacle: 20*my_logpdf(np.array([x,y]),obstacle,np.diag(np.array([0.02, 0.02], dtype=np.float32))) # Obstacle cost function"
   ]
  },
  {
   "cell_type": "code",
   "execution_count": 4,
   "metadata": {},
   "outputs": [],
   "source": [
    "#Utility functions\n",
    "def generate_space(lim_x, lim_y, n_points_x, n_points_y):\n",
    "    x = np.linspace(lim_x[0],lim_x[1],n_points_x)\n",
    "    y = np.linspace(lim_y[0],lim_y[1],n_points_y)\n",
    "    X, Y = np.meshgrid(x,y)\n",
    "    return x, y, X, Y\n",
    "\n",
    "def eval_2D_func(x_axis, y_axis, fun, args={}):\n",
    "    n_points_x = len(x_axis)\n",
    "    n_points_y = len(y_axis)\n",
    "    Z = np.zeros((n_points_x,n_points_y))\n",
    "    for i in range(n_points_x):\n",
    "        for j in range(n_points_y):\n",
    "            Z[i,j] += fun(x_axis[i],y_axis[j], **args)\n",
    "    return Z"
   ]
  },
  {
   "cell_type": "markdown",
   "metadata": {},
   "source": [
    "# Dropwave Tuner"
   ]
  },
  {
   "cell_type": "code",
   "execution_count": null,
   "metadata": {},
   "outputs": [],
   "source": [
    "base_goal = lambda X,Y, goal: 30*((X-goal[0])**2 + (Y-goal[1])**2)\n",
    "dropwave = lambda X,Y,f,s,p,o,k,A, obstacle: A*(o + np.cos(f*np.sqrt(((X-obstacle[0])/k)**2+((Y-obstacle[1])/k)**2)-f*np.sqrt((obstacle[0]/k)**2+(obstacle[1]/k)**2))/((s)*((X-obstacle[0])**2+(Y-obstacle[1])**2)+p))\n",
    "dropwave_attenuation = lambda X,Y,f,s,p,o,k,A,goal,obstacle,alpha,beta: dropwave(X,Y,f,s,p,o,k,A, obstacle) * np.exp(alpha*np.sqrt((X-goal[0])**2+(Y-goal[1])**2)) * np.exp(-beta*np.sqrt((X-obstacle[0])**2+(Y-obstacle[1])**2))"
   ]
  },
  {
   "cell_type": "code",
   "execution_count": null,
   "metadata": {},
   "outputs": [],
   "source": [
    "f = 1\n",
    "s = 1\n",
    "p = 1\n",
    "o = 1\n",
    "k = 1\n",
    "A = 1\n",
    "zita = 1\n",
    "alpha = 1\n",
    "beta = 1\n",
    "goal = np.array(np.mat('1.0; 0.0; 0'))\n",
    "obstacles = np.array(np.mat('0.0 0.0 0.0; 0.0 -0.3 0.3; 0 0 0 '))"
   ]
  },
  {
   "cell_type": "code",
   "execution_count": null,
   "metadata": {},
   "outputs": [],
   "source": [
    "%matplotlib tk\n",
    "n_points_x = 300\n",
    "n_points_y = 200\n",
    "\n",
    "x_axis, y_axis, X, Y = generate_space([-1.5, 1.5], [-1.0, 1.0], n_points_x, n_points_y)\n",
    "base_obstacle_map = sum([eval_2D_func(x_axis, y_axis, base_obstacle, {'obstacle': obstacle}) for obstacle in obstacles[:2,:].T])"
   ]
  },
  {
   "cell_type": "code",
   "execution_count": null,
   "metadata": {},
   "outputs": [],
   "source": [
    "state_cost_map = eval_2D_func(x_axis, y_axis, lambda x,y,goal_points,obs_points: state_cost(np.array([x,y]),goal_points,obs_points), {'goal_points': goal, 'obs_points': obstacles})"
   ]
  },
  {
   "cell_type": "code",
   "execution_count": null,
   "metadata": {},
   "outputs": [],
   "source": [
    "cost = sum([dropwave_attenuation(X,Y,f,s,p,o,k,A,goal, obstacle, alpha , beta) for obstacle in obstacles[:2,:].T]) + base_goal(X,Y,goal) + base_obstacle_map.T \n",
    "cost_gradient = np.gradient(cost)\n",
    "cost_gradient_module = np.sqrt(cost_gradient[0]**2 + cost_gradient[1]**2)\n",
    "\n",
    "fig = plt.figure(figsize=(20,20))\n",
    "ax = fig.add_subplot(2,1,1,projection='3d')\n",
    "\n",
    "#p: Inversamente proprozionale al picco\n",
    "#s: Inversamente proprozionale al cratere\n",
    "#f: legato alla frequenza\n",
    "#o: Un offset\n",
    "surf = ax.plot_surface(X,Y,cost, cmap=cm.coolwarm)\n",
    "# fix axis to robotarium size\n",
    "# ax.set_xlim(-1.5,1.5)\n",
    "# ax.set_ylim(-1,1)\n",
    "# ax.set_zlim(-10,100)\n",
    "\n",
    "ax2 = fig.add_subplot(2,1,2)\n",
    "heathmap = ax2.pcolormesh(X,Y,cost_gradient_module, vmin=0, vmax=2, cmap='RdGy')\n",
    "fig.colorbar(heathmap, ax=ax2)"
   ]
  },
  {
   "cell_type": "code",
   "execution_count": null,
   "metadata": {},
   "outputs": [],
   "source": [
    "import ipywidgets as widgets\n",
    "from IPython.display import display\n",
    "\n",
    "# Define the sliders\n",
    "f_slider = widgets.FloatSlider(min=0.00001, max=500.0, step=0.00001, value=100, description='f:')\n",
    "s_slider = widgets.FloatSlider(min=0.0001, max=100.0, step=0.001, value=100, description='s:')\n",
    "p_slider = widgets.FloatSlider(min=0.0001, max=250.0, step=0.001, value=30.0, description='p:')\n",
    "o_slider = widgets.FloatSlider(min=0.0, max=10.0, step=0.001, value=0.0, description='o:')\n",
    "k_slider = widgets.FloatSlider(min=0.0, max=20.0, step=0.001, value=7.41, description='k:')\n",
    "A_slider = widgets.FloatSlider(min=0.0, max=100.0, step=0.001, value=37.16, description='A:')\n",
    "alpha_slider = widgets.FloatSlider(min=0.0, max=20.0, step=0.00001, value=1.0, description='alpha:')\n",
    "beta_slider = widgets.FloatSlider(min=0, max=30.0, step=0.00001, value=1.0, description='beta:')\n",
    "\n",
    "# Display the sliders\n",
    "display(f_slider, s_slider, p_slider, o_slider, k_slider, A_slider, alpha_slider, beta_slider)\n",
    "\n",
    "# Update the function to use the slider values\n",
    "def update_plot():\n",
    "    f = f_slider.value\n",
    "    s = s_slider.value\n",
    "    p = p_slider.value\n",
    "    o = o_slider.value\n",
    "    k = k_slider.value\n",
    "    A = A_slider.value\n",
    "    alpha = alpha_slider.value\n",
    "    beta = beta_slider.value\n",
    "    \n",
    "    cost = sum([dropwave_attenuation(X,Y,f,s,p,o,k,A,goal, obstacle, alpha , beta) for obstacle in obstacles[:2,:].T]) + base_obstacle_map.T + base_goal(X,Y,goal)\n",
    "    cost_gradient = np.gradient(cost)\n",
    "    cost_gradient_module = np.sqrt(cost_gradient[0]**2 + cost_gradient[1]**2)\n",
    "    \n",
    "    \n",
    "    ax.clear()\n",
    "    surf = ax.plot_surface(X,Y,cost, cmap=cm.coolwarm)\n",
    "    ax.set_xlim(-1.5,1.5)\n",
    "    ax.set_ylim(-1,1)\n",
    "    #ax.set_zlim(-5,600)\n",
    "    \n",
    "    ax2.clear()\n",
    "    heathmap = ax2.pcolormesh(X,Y,cost_gradient_module, vmin=0, vmax=2, cmap='RdGy')\n",
    "\n",
    "\n",
    "# Call the update function when a slider value changes\n",
    "f_slider.observe(lambda change: update_plot(), names='value')\n",
    "s_slider.observe(lambda change: update_plot(), names='value')\n",
    "p_slider.observe(lambda change: update_plot(), names='value')\n",
    "o_slider.observe(lambda change: update_plot(), names='value')\n",
    "k_slider.observe(lambda change: update_plot(), names='value')\n",
    "A_slider.observe(lambda change: update_plot(), names='value')\n",
    "alpha_slider.observe(lambda change: update_plot(), names='value')\n",
    "beta_slider.observe(lambda change: update_plot(), names='value')\n",
    "\n",
    "# Initial plot\n",
    "update_plot()"
   ]
  },
  {
   "cell_type": "code",
   "execution_count": null,
   "metadata": {},
   "outputs": [],
   "source": [
    "print(\"'f': %f,\" % f_slider.value)\n",
    "print(\"'s': %f,\" % s_slider.value)\n",
    "print(\"'p': %f,\" % p_slider.value)\n",
    "print(\"'o': %f,\" % o_slider.value)\n",
    "print(\"'k': %f,\" % k_slider.value)\n",
    "print(\"'A': %f,\" % A_slider.value)\n",
    "print(\"'alpha': %f,\" % alpha_slider.value)\n",
    "print(\"'beta': %f,\" % beta_slider.value)"
   ]
  },
  {
   "cell_type": "markdown",
   "metadata": {},
   "source": [
    "# Single Wave Tuner"
   ]
  },
  {
   "cell_type": "code",
   "execution_count": null,
   "metadata": {},
   "outputs": [],
   "source": [
    "exp_distance = lambda X,Y,Lambda: np.exp(Lambda*np.sqrt(X**2+Y**2))\n",
    "euclidean_distance = lambda X,Y: np.sqrt(X**2+Y**2)\n",
    "problem06=lambda X,Y: - (X + np.sin(X))*np.exp(-X**2)\n",
    "single_wave = lambda X,Y,goal, A, k,omega,Lambda, alpha: A*(exp_distance(X,Y,Lambda)/k**2+np.sin(omega*exp_distance(X,Y,Lambda)/k**2))*np.exp(-(exp_distance(X,Y,Lambda)/k**2)**2) * np.exp(alpha*np.sqrt((X-goal[0])**2+(Y-goal[1])**2))\n",
    "sqare_waves = lambda X,Y, A, k, omega: A*np.cos(omega*np.abs(X/k)+np.abs(Y/k))\n",
    "circular_waves = lambda X,Y, A, k,omega: A*np.cos(omega*np.sqrt((X/k)**2 + (Y/k)**2))\n",
    "\n",
    "goal = np.array(np.mat('1.0; 0.0; 0'))\n",
    "obstacles = np.array(np.mat('0.0; 0.0; 0.0'))#np.array(np.mat('0.0 0.0 0.0; 0.0 -0.3 0.3; 0 0 0 '))"
   ]
  },
  {
   "cell_type": "code",
   "execution_count": null,
   "metadata": {},
   "outputs": [],
   "source": [
    "%matplotlib tk\n",
    "n_points_x = 300\n",
    "n_points_y = 200\n",
    "\n",
    "x_axis, y_axis, X, Y = generate_space([-1.5, 1.5], [-1, 1], n_points_x, n_points_y)\n",
    "base_obstacle_map = sum([eval_2D_func(x_axis, y_axis, base_obstacle, {'obstacle': obstacle}) for obstacle in obstacles[:2,:].T])"
   ]
  },
  {
   "cell_type": "code",
   "execution_count": null,
   "metadata": {},
   "outputs": [],
   "source": [
    "A=1\n",
    "k=1\n",
    "omega=1\n",
    "k2=1\n",
    "B=1\n",
    "slope=1\n",
    "Lambda=1\n",
    "alpha=1"
   ]
  },
  {
   "cell_type": "code",
   "execution_count": null,
   "metadata": {},
   "outputs": [],
   "source": [
    "cost = single_wave(X,Y,goal, A, k,omega,Lambda, alpha)\n",
    "cost_gradient = np.gradient(cost)\n",
    "cost_gradient_module = np.sqrt(cost_gradient[0]**2 + cost_gradient[1]**2)\n",
    "\n",
    "fig = plt.figure(figsize=(12,12))\n",
    "ax = fig.add_subplot(2,1,1,projection='3d')\n",
    "\n",
    "surf = ax.plot_surface(X,Y,cost, cmap=cm.coolwarm)\n",
    "# fix axis to robotarium size\n",
    "#ax.set_xlim(-1.5,1.5)\n",
    "#ax.set_ylim(-1,1)\n",
    "#ax.set_zlim(-10,100)\n",
    "\n",
    "ax2 = fig.add_subplot(2,1,2)\n",
    "heathmap = ax2.pcolormesh(X,Y,cost_gradient_module, vmin=0, vmax=2, cmap='RdGy')\n",
    "fig.colorbar(heathmap, ax=ax2)"
   ]
  },
  {
   "cell_type": "code",
   "execution_count": null,
   "metadata": {},
   "outputs": [],
   "source": [
    "import ipywidgets as widgets\n",
    "from IPython.display import display\n",
    "\n",
    "# Define the sliders\n",
    "A_slider = widgets.FloatSlider(min=-100, max=100.0, step=0.00001, value=1, description='A:')\n",
    "k_slider = widgets.FloatSlider(min=-5, max=5000, step=0.00001, value=1, description='k:')\n",
    "omega_slider = widgets.FloatSlider(min=0, max=10, step=0.00001, value=1, description='omega:')\n",
    "B_slider = widgets.FloatSlider(min=-10, max=10.0, step=0.00001, value=1, description='B:')\n",
    "slope_slider = widgets.FloatSlider(min=-10, max=10.0, step=0.00001, value=1, description='slope:')\n",
    "lambda_slider = widgets.FloatSlider(min=-10, max=30.0, step=0.00001, value=1, description='lambda:')\n",
    "alpha_slider = widgets.FloatSlider(min=-10, max=30.0, step=0.00001, value=1, description='alpha:')\n",
    "# Display the sliders\n",
    "display(A_slider, k_slider,omega_slider, B_slider, slope_slider, lambda_slider, alpha_slider)\n",
    "\n",
    "# Update the function to use the slider values\n",
    "def update_plot():\n",
    "    A = A_slider.value\n",
    "    k = k_slider.value\n",
    "    omega = omega_slider.value\n",
    "    B=B_slider.value\n",
    "    slope=slope_slider.value\n",
    "    Lambda=lambda_slider.value\n",
    "    alpha=alpha_slider.value\n",
    "    \n",
    "    cost = single_wave(X,Y,goal, A, k,omega,Lambda, alpha)\n",
    "    cost_gradient = np.gradient(cost)\n",
    "    cost_gradient_module = np.sqrt(cost_gradient[0]**2 + cost_gradient[1]**2)\n",
    "    \n",
    "    \n",
    "    ax.clear()\n",
    "    surf = ax.plot_surface(X,Y,cost, cmap=cm.coolwarm)\n",
    "    #ax.set_xlim(-1.5,1.5)\n",
    "    #ax.set_ylim(-1,1)\n",
    "    #ax.set_zlim(-5,100)\n",
    "    \n",
    "    ax2.clear()\n",
    "    heathmap = ax2.pcolormesh(X,Y,cost_gradient_module, vmin=0, vmax=2, cmap='RdGy')\n",
    "\n",
    "\n",
    "# Call the update function when a slider value changes\n",
    "A_slider.observe(lambda change: update_plot(), names='value')\n",
    "k_slider.observe(lambda change: update_plot(), names='value')\n",
    "omega_slider.observe(lambda change: update_plot(), names='value')\n",
    "B_slider.observe(lambda change: update_plot(), names='value')\n",
    "slope_slider.observe(lambda change: update_plot(), names='value')\n",
    "lambda_slider.observe(lambda change: update_plot(), names='value')\n",
    "alpha_slider.observe(lambda change: update_plot(), names='value')\n",
    "# Initial plot\n",
    "update_plot()"
   ]
  },
  {
   "cell_type": "code",
   "execution_count": null,
   "metadata": {},
   "outputs": [],
   "source": [
    "print(\"'A': %f,\" % A_slider.value)\n",
    "print(\"'k': %f,\" % k_slider.value)\n",
    "print(\"'omega': %f,\" % omega_slider.value)\n",
    "print(\"'L': %f,\" % lambda_slider.value)\n",
    "print(\"'alpha': %f,\" % alpha_slider.value)"
   ]
  },
  {
   "cell_type": "markdown",
   "metadata": {},
   "source": [
    "# Circular gaussian wave tuner"
   ]
  },
  {
   "cell_type": "code",
   "execution_count": 22,
   "metadata": {},
   "outputs": [],
   "source": [
    "import numpy as np\n",
    "rho = 0\n",
    "var_x = var_y = np.sqrt(0.02)\n",
    "cov = np.array([[var_x**2, rho*var_x*var_y], [rho*var_x*var_y, var_y**2]])\n",
    "\n",
    "base_obstacle = lambda x,y, obstacle: 20*my_logpdf(np.array([x,y]),obstacle,cov) # Obstacle cost function\n",
    "\n",
    "base_goal = lambda X,Y, goal: 30*((X-goal[0])**2 + (Y-goal[1])**2)\n",
    "exp_distance = lambda X,Y,Lambda: np.exp(Lambda*np.sqrt(X**2+Y**2))\n",
    "euclidean_distance = lambda X,Y,O=np.array([0,0]): np.sqrt((X-O[0])**2+(Y-O[1])**2)\n",
    "manhattan_distance = lambda X,Y,O=np.array([0,0]): np.maximum(np.abs(X-O[0]),np.abs(Y-O[1]))\n",
    "vector_module = lambda X,Y: np.sqrt(X**2+Y**2)\n",
    "gaussian = lambda X, mu, sigma: np.exp(-0.5*((X-mu)/sigma)**2)/(sigma*np.sqrt(2*np.pi))\n",
    "theta = lambda X,Y,G,O: np.arccos(((X-G[0])*(O[0]-G[0]) + (Y-G[1])*(O[1]-G[1]))/(vector_module(X-G[0],Y-G[1])+0.00001)/(vector_module(O[0]-G[0],O[1]-G[1])+0.00001))\n",
    "#decay = lambda X,Y,G,O,l: np.exp(-l*(theta(X,Y,G,O)/np.pi)**2)\n",
    "#decay = lambda X,Y,G,O,l: theta(X,Y,G,O)<l*np.pi/100\n",
    "decay = lambda X,Y,G,O,l: theta(X,Y,G,O)<l*np.pi/100\n",
    "circular_barrier = lambda X,Y,center,r,sigma,A,obstacle,l: A*gaussian(euclidean_distance(X,Y,center),r+manhattan_distance(obstacle[0],obstacle[1],center),sigma)*decay(X,Y,center,obstacle,l)\n",
    "\n",
    "goal = np.array(np.mat('-1.4; 0.8; 0'))\n",
    "obstacles = np.array(np.mat('0 0 0 0 0;0.2 0.4 0.6 0.8 -0.8;0 0 0 0 0'))\n"
   ]
  },
  {
   "cell_type": "code",
   "execution_count": 19,
   "metadata": {},
   "outputs": [],
   "source": [
    "%matplotlib tk\n",
    "n_points_x = 300\n",
    "n_points_y = 200\n",
    "\n",
    "x_axis, y_axis, X, Y = generate_space([-1.5, 1.5], [-1, 1], n_points_x, n_points_y)\n",
    "base_obstacle_map = sum([eval_2D_func(x_axis, y_axis, base_obstacle, {'obstacle': obstacle}) for obstacle in obstacles[:2,:].T])"
   ]
  },
  {
   "cell_type": "code",
   "execution_count": 25,
   "metadata": {},
   "outputs": [],
   "source": [
    "r = 1\n",
    "sigma = 1\n",
    "A = 1\n",
    "l=-0.5\n",
    "center = goal"
   ]
  },
  {
   "cell_type": "code",
   "execution_count": 32,
   "metadata": {},
   "outputs": [
    {
     "data": {
      "text/plain": [
       "<matplotlib.colorbar.Colorbar at 0x7f1f79567050>"
      ]
     },
     "execution_count": 32,
     "metadata": {},
     "output_type": "execute_result"
    }
   ],
   "source": [
    "#cost = sum([circular_barrier(X,Y,center,r,sigma,A,obstacle,l) for obstacle in obstacles[:2,:].T]) + base_obstacle_map.T + base_goal(X,Y,goal)\n",
    "cost = base_obstacle_map.T +base_goal(X,Y,goal)\n",
    "\n",
    "cost_gradient = np.gradient(cost)\n",
    "cost_gradient_module = np.sqrt(cost_gradient[0]**2 + cost_gradient[1]**2)\n",
    "\n",
    "fig = plt.figure(figsize=(12,12))\n",
    "ax = fig.add_subplot(2,1,1,projection='3d')\n",
    "\n",
    "surf = ax.plot_surface(X,Y,cost, cmap=cm.coolwarm)\n",
    "# fix axis to robotarium size\n",
    "#ax.set_xlim(-1.5,1.5)\n",
    "#ax.set_ylim(-1,1)\n",
    "#ax.set_zlim(-10,100)\n",
    "\n",
    "ax2 = fig.add_subplot(2,1,2)\n",
    "heathmap = ax2.pcolormesh(X,Y,cost_gradient_module, vmin=0, vmax=2, cmap='RdGy')\n",
    "fig.colorbar(heathmap, ax=ax2)"
   ]
  },
  {
   "cell_type": "code",
   "execution_count": 33,
   "metadata": {},
   "outputs": [
    {
     "data": {
      "application/vnd.jupyter.widget-view+json": {
       "model_id": "8b2ccfba99fd4794b830f954436d992e",
       "version_major": 2,
       "version_minor": 0
      },
      "text/plain": [
       "FloatSlider(value=1.0, description='r:', max=2.0, step=1e-05)"
      ]
     },
     "metadata": {},
     "output_type": "display_data"
    },
    {
     "data": {
      "application/vnd.jupyter.widget-view+json": {
       "model_id": "8498ec423d7341f2a91185bff9bf83f8",
       "version_major": 2,
       "version_minor": 0
      },
      "text/plain": [
       "FloatSlider(value=0.1, description='sigma:', max=0.2, step=1e-05)"
      ]
     },
     "metadata": {},
     "output_type": "display_data"
    },
    {
     "data": {
      "application/vnd.jupyter.widget-view+json": {
       "model_id": "9d8bcadb031246cf8f44555e7672e7db",
       "version_major": 2,
       "version_minor": 0
      },
      "text/plain": [
       "FloatSlider(value=1.0, description='A:', max=50.0, step=1e-05)"
      ]
     },
     "metadata": {},
     "output_type": "display_data"
    },
    {
     "data": {
      "application/vnd.jupyter.widget-view+json": {
       "model_id": "49d8b5514647492098e719509e50ee76",
       "version_major": 2,
       "version_minor": 0
      },
      "text/plain": [
       "FloatSlider(value=4.6451, description='l:', step=1e-05)"
      ]
     },
     "metadata": {},
     "output_type": "display_data"
    }
   ],
   "source": [
    "import ipywidgets as widgets\n",
    "from IPython.display import display\n",
    "\n",
    "# Define the sliders\n",
    "r_slider = widgets.FloatSlider(min=0, max=2.0, step=0.00001, value=1, description='r:')\n",
    "sigma_slider = widgets.FloatSlider(min=0, max=0.20, step=0.00001, value=0.1, description='sigma:')\n",
    "A_slider = widgets.FloatSlider(min=0, max=50, step=0.00001, value=1, description='A:')\n",
    "l_slider = widgets.FloatSlider(min=0, max=100, step=0.00001, value=4.6451, description='l:')\n",
    "# Display the sliders\n",
    "display(r_slider, sigma_slider, A_slider, l_slider)\n",
    "\n",
    "# Update the function to use the slider values\n",
    "def update_plot():\n",
    "    r = r_slider.value\n",
    "    sigma = sigma_slider.value\n",
    "    A = A_slider.value\n",
    "    l = l_slider.value\n",
    "    cost = sum([circular_barrier(X,Y,center,r,sigma,A,obstacle,l) for obstacle in obstacles[:2,:].T]) + base_goal(X,Y,goal) #+ base_obstacle_map.T \n",
    "    cost_gradient = np.gradient(cost)\n",
    "    cost_gradient_module = np.sqrt(cost_gradient[0]**2 + cost_gradient[1]**2)\n",
    "    \n",
    "    \n",
    "    ax.clear()\n",
    "    surf = ax.plot_surface(X,Y,cost, cmap=cm.coolwarm)\n",
    "    #ax.set_xlim(-1.5,1.5)\n",
    "    #ax.set_ylim(-1,1)\n",
    "    #ax.set_zlim(-5,100)\n",
    "    \n",
    "    ax2.clear()\n",
    "    heathmap = ax2.pcolormesh(X,Y,cost_gradient_module, vmin=0, vmax=2, cmap='RdGy')\n",
    "\n",
    "\n",
    "# Call the update function when a slider value changes\n",
    "r_slider.observe(lambda change: update_plot(), names='value')\n",
    "sigma_slider.observe(lambda change: update_plot(), names='value')\n",
    "A_slider.observe(lambda change: update_plot(), names='value')\n",
    "l_slider.observe(lambda change: update_plot(), names='value')\n",
    "# Initial plot\n",
    "update_plot()"
   ]
  },
  {
   "cell_type": "code",
   "execution_count": 30,
   "metadata": {},
   "outputs": [
    {
     "name": "stdout",
     "output_type": "stream",
     "text": [
      "'r': 0.435690,\n",
      "'sigma': 0.100000,\n",
      "'A': 17.123170,\n",
      "'l': 3.838940,\n"
     ]
    }
   ],
   "source": [
    "print(\"'r': %f,\" % r_slider.value)\n",
    "print(\"'sigma': %f,\" % sigma_slider.value)\n",
    "print(\"'A': %f,\" % A_slider.value)\n",
    "print(\"'l': %f,\" % l_slider.value)"
   ]
  },
  {
   "cell_type": "markdown",
   "metadata": {},
   "source": [
    "# Gaussian obstacle tuner"
   ]
  },
  {
   "cell_type": "code",
   "execution_count": 56,
   "metadata": {},
   "outputs": [],
   "source": [
    "import numpy as np\n",
    "from scipy.stats import multivariate_normal\n",
    "\n",
    "def bivariate_gaussian(x, y, mean, var_x, var_y, rho):\n",
    "    covariance_matrix = np.array([[var_x, rho*np.sqrt(var_x)*np.sqrt(var_y)], [rho*np.sqrt(var_x)*np.sqrt(var_y), var_y]])\n",
    "    \n",
    "    pos = np.dstack((x, y))\n",
    "    rv = multivariate_normal(mean, covariance_matrix,allow_singular=True)\n",
    "    # Calculate the probability density function (PDF) values\n",
    "    z = rv.pdf(pos)\n",
    "\n",
    "    return z\n",
    "\n",
    "def gaussian_wave(x, y, obstacle, var_x, var_y,goal):\n",
    "    rho = (np.pi*2/3-theta(x,y,goal,obstacle))/(np.pi*2/3)\n",
    "    print(rho)\n",
    "    return bivariate_gaussian(x, y, goal, var_x, var_y, rho)\n",
    "\n",
    "base_goal = lambda X,Y, goal: 30*( (X-goal[0])**2 + (Y-goal[1])**2 -1/(euclidean_distance(X,Y,goal) +0.1))\n",
    "exp_distance = lambda X,Y,Lambda: np.exp(Lambda*np.sqrt(X**2+Y**2))\n",
    "euclidean_distance = lambda X,Y,O=np.array([0,0]): np.sqrt((X-O[0])**2+(Y-O[1])**2)\n",
    "vector_module = lambda X,Y: np.sqrt(X**2+Y**2)\n",
    "gaussian = lambda X, mu, sigma: np.exp(-0.5*((X-mu)/sigma)**2)/(sigma*np.sqrt(2*np.pi))\n",
    "\n",
    "theta = lambda X,Y,G,O: np.arccos(((X-G[0])*(O[0]-G[0]) + (Y-G[1])*(O[1]-G[1]))/(vector_module(X-G[0],Y-G[1])+0.00001)/(vector_module(O[0]-G[0],O[1]-G[1])+0.00001))\n",
    "\n",
    "decay = lambda X,Y,G,O,l: np.exp(-l*(theta(X,Y,G,O)/np.pi)**2)\n",
    "\n",
    "\n",
    "goal = np.array(np.mat('-1.4; 0.8; 0'))\n",
    "obstacles = np.array(np.mat('0 0 0 0 0;0.2 0.4 0.6 0.8 -0.8;0 0 0 0 0'))\n"
   ]
  },
  {
   "cell_type": "code",
   "execution_count": 57,
   "metadata": {},
   "outputs": [],
   "source": [
    "%matplotlib tk\n",
    "n_points_x = 300\n",
    "n_points_y = 200\n",
    "\n",
    "x_axis, y_axis, X, Y = generate_space([-1.5, 1.5], [-1, 1], n_points_x, n_points_y)\n",
    "base_obstacle_map = sum([eval_2D_func(x_axis, y_axis, base_obstacle, {'obstacle': obstacle}) for obstacle in obstacles[:2,:].T])"
   ]
  },
  {
   "cell_type": "code",
   "execution_count": 58,
   "metadata": {},
   "outputs": [
    {
     "data": {
      "text/plain": [
       "array([[0.02, 0.  ],\n",
       "       [0.  , 0.02]])"
      ]
     },
     "execution_count": 58,
     "metadata": {},
     "output_type": "execute_result"
    }
   ],
   "source": [
    "rho = 0\n",
    "var_x = var_y = 0.02\n",
    "A = 1\n",
    "covariance_matrix = np.array([[var_x, rho*np.sqrt(var_x)*np.sqrt(var_y)], [rho*np.sqrt(var_x)*np.sqrt(var_y), var_y]])\n",
    "covariance_matrix"
   ]
  },
  {
   "cell_type": "code",
   "execution_count": 59,
   "metadata": {},
   "outputs": [
    {
     "name": "stdout",
     "output_type": "stream",
     "text": [
      "[[ 0.4168209   0.41947492  0.42213041 ...  0.92657578  0.92732125\n",
      "   0.928063  ]\n",
      " [ 0.41667242  0.41934125  0.42201159 ...  0.92777532  0.92851894\n",
      "   0.92925884]\n",
      " [ 0.41652226  0.41920609  0.42189143 ...  0.92897861  0.92972036\n",
      "   0.93045837]\n",
      " ...\n",
      " [-0.18552249 -0.16470094 -0.14293022 ...  0.77688204  0.7769852\n",
      "   0.77708764]\n",
      " [-0.17466352 -0.15449066 -0.13347713 ...  0.77522273  0.7753316\n",
      "   0.77543972]\n",
      " [-0.16466808 -0.14512596 -0.12483704 ...  0.77356418  0.77367876\n",
      "   0.77379254]]\n"
     ]
    },
    {
     "ename": "ValueError",
     "evalue": "setting an array element with a sequence. The requested array has an inhomogeneous shape after 2 dimensions. The detected shape was (2, 2) + inhomogeneous part.",
     "output_type": "error",
     "traceback": [
      "\u001b[0;31m---------------------------------------------------------------------------\u001b[0m",
      "\u001b[0;31mValueError\u001b[0m                                Traceback (most recent call last)",
      "Cell \u001b[0;32mIn[59], line 3\u001b[0m\n\u001b[1;32m      1\u001b[0m \u001b[38;5;66;03m#cost = sum([circular_barrier(X,Y,center,r,sigma,A,obstacle,l) for obstacle in obstacles[:2,:].T]) + base_obstacle_map.T + base_goal(X,Y,goal)\u001b[39;00m\n\u001b[1;32m      2\u001b[0m \u001b[38;5;66;03m#cost = sum([A*bivariate_gaussian(X, Y,obstacle, var_x, var_y,rho)+5*bivariate_gaussian(X, Y,obstacle, 0.005, 0.005,0) for obstacle in obstacles[:2,:].T]) + base_goal(X,Y,goal)\u001b[39;00m\n\u001b[0;32m----> 3\u001b[0m cost \u001b[38;5;241m=\u001b[39m \u001b[38;5;28msum\u001b[39m(\u001b[43m[\u001b[49m\u001b[43mA\u001b[49m\u001b[38;5;241;43m*\u001b[39;49m\u001b[43mgaussian_wave\u001b[49m\u001b[43m(\u001b[49m\u001b[43mX\u001b[49m\u001b[43m,\u001b[49m\u001b[43m \u001b[49m\u001b[43mY\u001b[49m\u001b[43m,\u001b[49m\u001b[43mobstacle\u001b[49m\u001b[43m,\u001b[49m\u001b[43m \u001b[49m\u001b[43mvar_x\u001b[49m\u001b[43m,\u001b[49m\u001b[43m \u001b[49m\u001b[43mvar_y\u001b[49m\u001b[43m,\u001b[49m\u001b[43mgoal\u001b[49m\u001b[43m)\u001b[49m\u001b[38;5;241;43m+\u001b[39;49m\u001b[38;5;241;43m5\u001b[39;49m\u001b[38;5;241;43m*\u001b[39;49m\u001b[43mbivariate_gaussian\u001b[49m\u001b[43m(\u001b[49m\u001b[43mX\u001b[49m\u001b[43m,\u001b[49m\u001b[43m \u001b[49m\u001b[43mY\u001b[49m\u001b[43m,\u001b[49m\u001b[43mobstacle\u001b[49m\u001b[43m,\u001b[49m\u001b[43m \u001b[49m\u001b[38;5;241;43m0.005\u001b[39;49m\u001b[43m,\u001b[49m\u001b[43m \u001b[49m\u001b[38;5;241;43m0.005\u001b[39;49m\u001b[43m,\u001b[49m\u001b[38;5;241;43m0\u001b[39;49m\u001b[43m)\u001b[49m\u001b[43m \u001b[49m\u001b[38;5;28;43;01mfor\u001b[39;49;00m\u001b[43m \u001b[49m\u001b[43mobstacle\u001b[49m\u001b[43m \u001b[49m\u001b[38;5;129;43;01min\u001b[39;49;00m\u001b[43m \u001b[49m\u001b[43mobstacles\u001b[49m\u001b[43m[\u001b[49m\u001b[43m:\u001b[49m\u001b[38;5;241;43m2\u001b[39;49m\u001b[43m,\u001b[49m\u001b[43m:\u001b[49m\u001b[43m]\u001b[49m\u001b[38;5;241;43m.\u001b[39;49m\u001b[43mT\u001b[49m\u001b[43m]\u001b[49m) \u001b[38;5;241m+\u001b[39m base_goal(X,Y,goal)\n\u001b[1;32m      4\u001b[0m cost_gradient \u001b[38;5;241m=\u001b[39m np\u001b[38;5;241m.\u001b[39mgradient(cost)\n\u001b[1;32m      5\u001b[0m cost_gradient_module \u001b[38;5;241m=\u001b[39m np\u001b[38;5;241m.\u001b[39msqrt(cost_gradient[\u001b[38;5;241m0\u001b[39m]\u001b[38;5;241m*\u001b[39m\u001b[38;5;241m*\u001b[39m\u001b[38;5;241m2\u001b[39m \u001b[38;5;241m+\u001b[39m cost_gradient[\u001b[38;5;241m1\u001b[39m]\u001b[38;5;241m*\u001b[39m\u001b[38;5;241m*\u001b[39m\u001b[38;5;241m2\u001b[39m)\n",
      "Cell \u001b[0;32mIn[59], line 3\u001b[0m, in \u001b[0;36m<listcomp>\u001b[0;34m(.0)\u001b[0m\n\u001b[1;32m      1\u001b[0m \u001b[38;5;66;03m#cost = sum([circular_barrier(X,Y,center,r,sigma,A,obstacle,l) for obstacle in obstacles[:2,:].T]) + base_obstacle_map.T + base_goal(X,Y,goal)\u001b[39;00m\n\u001b[1;32m      2\u001b[0m \u001b[38;5;66;03m#cost = sum([A*bivariate_gaussian(X, Y,obstacle, var_x, var_y,rho)+5*bivariate_gaussian(X, Y,obstacle, 0.005, 0.005,0) for obstacle in obstacles[:2,:].T]) + base_goal(X,Y,goal)\u001b[39;00m\n\u001b[0;32m----> 3\u001b[0m cost \u001b[38;5;241m=\u001b[39m \u001b[38;5;28msum\u001b[39m([A\u001b[38;5;241m*\u001b[39m\u001b[43mgaussian_wave\u001b[49m\u001b[43m(\u001b[49m\u001b[43mX\u001b[49m\u001b[43m,\u001b[49m\u001b[43m \u001b[49m\u001b[43mY\u001b[49m\u001b[43m,\u001b[49m\u001b[43mobstacle\u001b[49m\u001b[43m,\u001b[49m\u001b[43m \u001b[49m\u001b[43mvar_x\u001b[49m\u001b[43m,\u001b[49m\u001b[43m \u001b[49m\u001b[43mvar_y\u001b[49m\u001b[43m,\u001b[49m\u001b[43mgoal\u001b[49m\u001b[43m)\u001b[49m\u001b[38;5;241m+\u001b[39m\u001b[38;5;241m5\u001b[39m\u001b[38;5;241m*\u001b[39mbivariate_gaussian(X, Y,obstacle, \u001b[38;5;241m0.005\u001b[39m, \u001b[38;5;241m0.005\u001b[39m,\u001b[38;5;241m0\u001b[39m) \u001b[38;5;28;01mfor\u001b[39;00m obstacle \u001b[38;5;129;01min\u001b[39;00m obstacles[:\u001b[38;5;241m2\u001b[39m,:]\u001b[38;5;241m.\u001b[39mT]) \u001b[38;5;241m+\u001b[39m base_goal(X,Y,goal)\n\u001b[1;32m      4\u001b[0m cost_gradient \u001b[38;5;241m=\u001b[39m np\u001b[38;5;241m.\u001b[39mgradient(cost)\n\u001b[1;32m      5\u001b[0m cost_gradient_module \u001b[38;5;241m=\u001b[39m np\u001b[38;5;241m.\u001b[39msqrt(cost_gradient[\u001b[38;5;241m0\u001b[39m]\u001b[38;5;241m*\u001b[39m\u001b[38;5;241m*\u001b[39m\u001b[38;5;241m2\u001b[39m \u001b[38;5;241m+\u001b[39m cost_gradient[\u001b[38;5;241m1\u001b[39m]\u001b[38;5;241m*\u001b[39m\u001b[38;5;241m*\u001b[39m\u001b[38;5;241m2\u001b[39m)\n",
      "Cell \u001b[0;32mIn[56], line 17\u001b[0m, in \u001b[0;36mgaussian_wave\u001b[0;34m(x, y, obstacle, var_x, var_y, goal)\u001b[0m\n\u001b[1;32m     15\u001b[0m rho \u001b[38;5;241m=\u001b[39m (np\u001b[38;5;241m.\u001b[39mpi\u001b[38;5;241m*\u001b[39m\u001b[38;5;241m2\u001b[39m\u001b[38;5;241m/\u001b[39m\u001b[38;5;241m3\u001b[39m\u001b[38;5;241m-\u001b[39mtheta(x,y,goal,obstacle))\u001b[38;5;241m/\u001b[39m(np\u001b[38;5;241m.\u001b[39mpi\u001b[38;5;241m*\u001b[39m\u001b[38;5;241m2\u001b[39m\u001b[38;5;241m/\u001b[39m\u001b[38;5;241m3\u001b[39m)\n\u001b[1;32m     16\u001b[0m \u001b[38;5;28mprint\u001b[39m(rho)\n\u001b[0;32m---> 17\u001b[0m \u001b[38;5;28;01mreturn\u001b[39;00m \u001b[43mbivariate_gaussian\u001b[49m\u001b[43m(\u001b[49m\u001b[43mx\u001b[49m\u001b[43m,\u001b[49m\u001b[43m \u001b[49m\u001b[43my\u001b[49m\u001b[43m,\u001b[49m\u001b[43m \u001b[49m\u001b[43mgoal\u001b[49m\u001b[43m,\u001b[49m\u001b[43m \u001b[49m\u001b[43mvar_x\u001b[49m\u001b[43m,\u001b[49m\u001b[43m \u001b[49m\u001b[43mvar_y\u001b[49m\u001b[43m,\u001b[49m\u001b[43m \u001b[49m\u001b[43mrho\u001b[49m\u001b[43m)\u001b[49m\n",
      "Cell \u001b[0;32mIn[56], line 5\u001b[0m, in \u001b[0;36mbivariate_gaussian\u001b[0;34m(x, y, mean, var_x, var_y, rho)\u001b[0m\n\u001b[1;32m      4\u001b[0m \u001b[38;5;28;01mdef\u001b[39;00m \u001b[38;5;21mbivariate_gaussian\u001b[39m(x, y, mean, var_x, var_y, rho):\n\u001b[0;32m----> 5\u001b[0m     covariance_matrix \u001b[38;5;241m=\u001b[39m \u001b[43mnp\u001b[49m\u001b[38;5;241;43m.\u001b[39;49m\u001b[43marray\u001b[49m\u001b[43m(\u001b[49m\u001b[43m[\u001b[49m\u001b[43m[\u001b[49m\u001b[43mvar_x\u001b[49m\u001b[43m,\u001b[49m\u001b[43m \u001b[49m\u001b[43mrho\u001b[49m\u001b[38;5;241;43m*\u001b[39;49m\u001b[43mnp\u001b[49m\u001b[38;5;241;43m.\u001b[39;49m\u001b[43msqrt\u001b[49m\u001b[43m(\u001b[49m\u001b[43mvar_x\u001b[49m\u001b[43m)\u001b[49m\u001b[38;5;241;43m*\u001b[39;49m\u001b[43mnp\u001b[49m\u001b[38;5;241;43m.\u001b[39;49m\u001b[43msqrt\u001b[49m\u001b[43m(\u001b[49m\u001b[43mvar_y\u001b[49m\u001b[43m)\u001b[49m\u001b[43m]\u001b[49m\u001b[43m,\u001b[49m\u001b[43m \u001b[49m\u001b[43m[\u001b[49m\u001b[43mrho\u001b[49m\u001b[38;5;241;43m*\u001b[39;49m\u001b[43mnp\u001b[49m\u001b[38;5;241;43m.\u001b[39;49m\u001b[43msqrt\u001b[49m\u001b[43m(\u001b[49m\u001b[43mvar_x\u001b[49m\u001b[43m)\u001b[49m\u001b[38;5;241;43m*\u001b[39;49m\u001b[43mnp\u001b[49m\u001b[38;5;241;43m.\u001b[39;49m\u001b[43msqrt\u001b[49m\u001b[43m(\u001b[49m\u001b[43mvar_y\u001b[49m\u001b[43m)\u001b[49m\u001b[43m,\u001b[49m\u001b[43m \u001b[49m\u001b[43mvar_y\u001b[49m\u001b[43m]\u001b[49m\u001b[43m]\u001b[49m\u001b[43m)\u001b[49m\n\u001b[1;32m      7\u001b[0m     pos \u001b[38;5;241m=\u001b[39m np\u001b[38;5;241m.\u001b[39mdstack((x, y))\n\u001b[1;32m      8\u001b[0m     rv \u001b[38;5;241m=\u001b[39m multivariate_normal(mean, covariance_matrix,allow_singular\u001b[38;5;241m=\u001b[39m\u001b[38;5;28;01mTrue\u001b[39;00m)\n",
      "\u001b[0;31mValueError\u001b[0m: setting an array element with a sequence. The requested array has an inhomogeneous shape after 2 dimensions. The detected shape was (2, 2) + inhomogeneous part."
     ]
    }
   ],
   "source": [
    "#cost = sum([circular_barrier(X,Y,center,r,sigma,A,obstacle,l) for obstacle in obstacles[:2,:].T]) + base_obstacle_map.T + base_goal(X,Y,goal)\n",
    "#cost = sum([A*bivariate_gaussian(X, Y,obstacle, var_x, var_y,rho)+5*bivariate_gaussian(X, Y,obstacle, 0.005, 0.005,0) for obstacle in obstacles[:2,:].T]) + base_goal(X,Y,goal)\n",
    "cost = sum([A*gaussian_wave(X, Y,obstacle, var_x, var_y,goal)+5*bivariate_gaussian(X, Y,obstacle, 0.005, 0.005,0) for obstacle in obstacles[:2,:].T]) + base_goal(X,Y,goal)\n",
    "cost_gradient = np.gradient(cost)\n",
    "cost_gradient_module = np.sqrt(cost_gradient[0]**2 + cost_gradient[1]**2)\n",
    "\n",
    "fig = plt.figure(figsize=(12,12))\n",
    "ax = fig.add_subplot(2,1,1,projection='3d')\n",
    "\n",
    "surf = ax.plot_surface(X,Y,cost, cmap=cm.coolwarm)\n",
    "# fix axis to robotarium size\n",
    "# ax.set_xlim(-1.5,1.5)\n",
    "# ax.set_ylim(-1,1)\n",
    "# ax.set_zlim(-10,100)\n",
    "\n",
    "ax2 = fig.add_subplot(2,1,2)\n",
    "heathmap = ax2.pcolormesh(X,Y,cost_gradient_module, vmin=0, vmax=2, cmap='RdGy')\n",
    "fig.colorbar(heathmap, ax=ax2)"
   ]
  },
  {
   "cell_type": "code",
   "execution_count": 44,
   "metadata": {},
   "outputs": [
    {
     "data": {
      "application/vnd.jupyter.widget-view+json": {
       "model_id": "dc1a7100504d43bdb0ce2841cf857cc9",
       "version_major": 2,
       "version_minor": 0
      },
      "text/plain": [
       "FloatSlider(value=0.0, description='rho:', max=1.0, min=-1.0, step=1e-05)"
      ]
     },
     "metadata": {},
     "output_type": "display_data"
    },
    {
     "data": {
      "application/vnd.jupyter.widget-view+json": {
       "model_id": "5aefe5d7cd52484eaa9db6876fb3f420",
       "version_major": 2,
       "version_minor": 0
      },
      "text/plain": [
       "FloatSlider(value=0.1, description='var_x:', max=1.0, step=1e-05)"
      ]
     },
     "metadata": {},
     "output_type": "display_data"
    },
    {
     "data": {
      "application/vnd.jupyter.widget-view+json": {
       "model_id": "c1842d4b3a8f4a268debf85b27541fdf",
       "version_major": 2,
       "version_minor": 0
      },
      "text/plain": [
       "FloatSlider(value=0.1, description='var_y:', max=1.0, step=1e-05)"
      ]
     },
     "metadata": {},
     "output_type": "display_data"
    },
    {
     "data": {
      "application/vnd.jupyter.widget-view+json": {
       "model_id": "48d3b3ad2d37499a89b9e82f040b4491",
       "version_major": 2,
       "version_minor": 0
      },
      "text/plain": [
       "FloatSlider(value=20.0, description='A:', step=1e-05)"
      ]
     },
     "metadata": {},
     "output_type": "display_data"
    }
   ],
   "source": [
    "import ipywidgets as widgets\n",
    "from IPython.display import display\n",
    "\n",
    "# Define the sliders\n",
    "rho_slider = widgets.FloatSlider(min=-1, max=1, step=0.00001, value=0.0, description='rho:')\n",
    "var_x_slider = widgets.FloatSlider(min=0, max=1, step=0.00001, value=0.1, description='var_x:')\n",
    "var_y_slider = widgets.FloatSlider(min=0, max=1, step=0.00001, value=0.1, description='var_y:')\n",
    "A_slider = widgets.FloatSlider(min=0, max=100, step=0.00001, value=20, description='A:')\n",
    "# Display the sliders\n",
    "display(rho_slider, var_x_slider, var_y_slider, A_slider)\n",
    "\n",
    "# Update the function to use the slider values\n",
    "def update_plot():\n",
    "    \n",
    "    rho = rho_slider.value\n",
    "    var_x = var_x_slider.value\n",
    "    var_y = var_y_slider.value\n",
    "    A = A_slider.value\n",
    "    cost = sum([A*gaussian_wave(X, Y,obstacle, var_x, var_y,goal)+5*bivariate_gaussian(X, Y,obstacle, 0.005, 0.005,0) for obstacle in obstacles[:2,:].T]) + base_goal(X,Y,goal)\n",
    "\n",
    "    cost_gradient = np.gradient(cost)\n",
    "    cost_gradient_module = np.sqrt(cost_gradient[0]**2 + cost_gradient[1]**2)\n",
    "    \n",
    "    \n",
    "    ax.clear()\n",
    "    surf = ax.plot_surface(X,Y,cost, cmap=cm.coolwarm)\n",
    "    #ax.set_xlim(-1.5,1.5)\n",
    "    #ax.set_ylim(-1,1)\n",
    "    #ax.set_zlim(-5,100)\n",
    "    \n",
    "    ax2.clear()\n",
    "    heathmap = ax2.pcolormesh(X,Y,cost_gradient_module, vmin=0, vmax=2, cmap='RdGy')\n",
    "\n",
    "\n",
    "# Call the update function when a slider value changes\n",
    "rho_slider.observe(lambda change: update_plot(), names='value')\n",
    "var_x_slider.observe(lambda change: update_plot(), names='value')\n",
    "var_y_slider.observe(lambda change: update_plot(), names='value')\n",
    "A_slider.observe(lambda change: update_plot(), names='value')\n",
    "# Initial plot\n",
    "update_plot()"
   ]
  },
  {
   "cell_type": "code",
   "execution_count": 46,
   "metadata": {},
   "outputs": [
    {
     "name": "stdout",
     "output_type": "stream",
     "text": [
      "'rho': 0.886760,\n",
      "'var_x': 0.080620,\n",
      "'var_y': 0.083890,\n",
      "'A': 18.387680\n"
     ]
    }
   ],
   "source": [
    "print(\"'rho': %f,\" % rho_slider.value)\n",
    "print(\"'var_x': %f,\" % var_x_slider.value)\n",
    "print(\"'var_y': %f,\" % var_y_slider.value)\n",
    "print(\"'A': %f\" % A_slider.value)\n"
   ]
  }
 ],
 "metadata": {
  "kernelspec": {
   "display_name": "ddc",
   "language": "python",
   "name": "python3"
  },
  "language_info": {
   "codemirror_mode": {
    "name": "ipython",
    "version": 3
   },
   "file_extension": ".py",
   "mimetype": "text/x-python",
   "name": "python",
   "nbconvert_exporter": "python",
   "pygments_lexer": "ipython3",
   "version": "3.11.5"
  }
 },
 "nbformat": 4,
 "nbformat_minor": 2
}
